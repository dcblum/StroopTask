{
 "cells": [
  {
   "cell_type": "markdown",
   "metadata": {},
   "source": [
    "# Stroop Effect"
   ]
  },
  {
   "cell_type": "markdown",
   "metadata": {},
   "source": [
    "Individuals are tasked with identifying the color of a series of words while being timed. The CONGRUENT task has the \"word\" and \"color\" match, whereas the INCONGRUENT task has the \"word\" and \"color\" *not* match."
   ]
  },
  {
   "cell_type": "markdown",
   "metadata": {},
   "source": [
    "The independent variable is the *task to be performed* (either the CONGRUENT or INCONTGRUENT task). The dependent variable is the *time to complete* the task."
   ]
  },
  {
   "cell_type": "markdown",
   "metadata": {},
   "source": [
    "H<sub>0</sub>: µ<sub>congruent</sub> - µ<sub>incongruent</sub> ≥ 0\n",
    "\n",
    "H<sub>A</sub>: µ<sub>congruent</sub> - µ<sub>incongruent</sub> < 0\n",
    "\n",
    "α = 0.05, T-critical = -1.714, df = 23"
   ]
  },
  {
   "cell_type": "markdown",
   "metadata": {},
   "source": [
    "The null hypothesis states there is no difference bewteen population means of the two tasks, whereas the alternate hypothesis states there is a significant difference in population means such that the INCONGRUENT task takes a longer time.\n",
    "\n",
    "A \"Repeated Measures Design\" is suffiecient for this study: population parameters are not known, there are only 24 samples, and the distribution is assumed to be Gaussian."
   ]
  },
  {
   "cell_type": "markdown",
   "metadata": {},
   "source": [
    "### Import Data"
   ]
  },
  {
   "cell_type": "code",
   "execution_count": 1,
   "metadata": {
    "collapsed": true
   },
   "outputs": [],
   "source": [
    "import unicodecsv\n",
    "import numpy as np\n",
    "import pandas as pd\n",
    "import matplotlib.pyplot as plt\n",
    "import seaborn as sns\n",
    "\n",
    "# Allow plots to show inline in notebook\n",
    "%matplotlib inline\n",
    "\n",
    "# Read in CSV file. This definition is provided by Udacity.com\n",
    "def read_csv(filename):\n",
    "    '''Returns a dictionary of the CSV file'''\n",
    "    with open(filename, 'rb') as f:\n",
    "        reader = unicodecsv.DictReader(f)\n",
    "        return list(reader)\n",
    "\n",
    "stroop_data = read_csv('stroopdata.csv')"
   ]
  },
  {
   "cell_type": "code",
   "execution_count": 2,
   "metadata": {
    "collapsed": false
   },
   "outputs": [],
   "source": [
    "def parse_float(number):\n",
    "    '''Returns number string as float. Returns \"None\" if empty'''\n",
    "    if number == \"\":\n",
    "        return None\n",
    "    return float(number)\n",
    "\n",
    "# Convert stroop_data number strings to float\n",
    "for data in stroop_data:\n",
    "    data['Congruent'] = parse_float(data['Congruent'])\n",
    "    data['Incongruent'] = parse_float(data['Incongruent'])"
   ]
  },
  {
   "cell_type": "code",
   "execution_count": 3,
   "metadata": {
    "collapsed": false
   },
   "outputs": [],
   "source": [
    "# Create Data Frame\n",
    "stroop_data_df = pd.DataFrame(stroop_data)"
   ]
  },
  {
   "cell_type": "markdown",
   "metadata": {},
   "source": [
    "### Create Functions"
   ]
  },
  {
   "cell_type": "code",
   "execution_count": 4,
   "metadata": {
    "collapsed": false
   },
   "outputs": [],
   "source": [
    "def print_descriptive_stats(data):\n",
    "    '''Prints Descriptive Statistics: Mean and STD'''\n",
    "    print \"Mean: \" + str(data.mean())\n",
    "    print \"STD: \" + str(data.std()) + \"\\n\"\n",
    "    \n",
    "def print_tstat(data1, data2):\n",
    "    '''Prints tstat'''\n",
    "    # Calculate difference scores: mean and std  \n",
    "    data_xd = (data1-data2).mean()\n",
    "    data_sd = (data1-data2).std()\n",
    "    \n",
    "    tstat = (data_xd)/(data_sd/(24**.5))\n",
    "    print \"Tstat: \" + str(tstat) + \"\\n\""
   ]
  },
  {
   "cell_type": "markdown",
   "metadata": {},
   "source": [
    "### Calculate Statistics"
   ]
  },
  {
   "cell_type": "code",
   "execution_count": 5,
   "metadata": {
    "collapsed": false
   },
   "outputs": [
    {
     "name": "stdout",
     "output_type": "stream",
     "text": [
      "CONGRUENT\n",
      "Mean: 14.051125\n",
      "STD: 3.55935795765\n",
      "\n",
      "INCONGRUENT\n",
      "Mean: 22.0159166667\n",
      "STD: 4.79705712247\n",
      "\n",
      "Inferential Statistics\n",
      "Tstat: -8.02070694411\n",
      "\n"
     ]
    }
   ],
   "source": [
    "print \"CONGRUENT\"\n",
    "print_descriptive_stats(stroop_data_df['Congruent'])\n",
    "\n",
    "print \"INCONGRUENT\"\n",
    "print_descriptive_stats(stroop_data_df['Incongruent'])\n",
    "\n",
    "print \"Inferential Statistics\"\n",
    "print_tstat(stroop_data_df['Congruent'], stroop_data_df['Incongruent'])"
   ]
  },
  {
   "cell_type": "code",
   "execution_count": 6,
   "metadata": {
    "collapsed": false
   },
   "outputs": [
    {
     "data": {
      "image/png": "[encoded data removed]",
      "text/plain": [
       "<matplotlib.figure.Figure at 0x990d390>"
      ]
     },
     "metadata": {},
     "output_type": "display_data"
    }
   ],
   "source": [
    "# Create distribution plot of Congruent and Incongruent\n",
    "sns.distplot(stroop_data_df['Congruent'])\n",
    "sns.distplot(stroop_data_df['Incongruent'])\n",
    "sns.axlabel(\"Seconds\", \"\")\n",
    "plt.title(\"Time to Identify Colors\")\n",
    "plt.legend([\"Congruent Task\", \"Incongruent Task\"])\n",
    "plt.show()"
   ]
  },
  {
   "cell_type": "markdown",
   "metadata": {},
   "source": [
    "Individuals appear to more quickly identify colors in the CONGRUENT Task as opposed to the INCONGRUENT Task."
   ]
  },
  {
   "cell_type": "markdown",
   "metadata": {},
   "source": [
    "### Analysis"
   ]
  },
  {
   "cell_type": "markdown",
   "metadata": {},
   "source": [
    "The Tstat (-8.021) is far below the T-critical value (-1.714). The null hypothesis is rejected. The INCONGRUENT task likely takes more time to complete.\n",
    "\n",
    "One reason the INCONGRUENT task is different is because one side of the brain wants to read the word whereas the other side of the brain wants to read the color. This results in more time being placed on the INCONGRUENT task.\n",
    "\n",
    "A similar experiment that may produce related results would be to construct shapes (squares, triangles, rectangles, etc.) out of words and have the participant name the shape. A sample congruent task could be a square made from multiple uses of the word square whereas a sample incongruent task could be a rectangle made from multiple uses of the word triangle."
   ]
  },
  {
   "cell_type": "code",
   "execution_count": null,
   "metadata": {
    "collapsed": true
   },
   "outputs": [],
   "source": []
  }
 ],
 "metadata": {
  "kernelspec": {
   "display_name": "Python 2",
   "language": "python",
   "name": "python2"
  },
  "language_info": {
   "codemirror_mode": {
    "name": "ipython",
    "version": 2
   },
   "file_extension": ".py",
   "mimetype": "text/x-python",
   "name": "python",
   "nbconvert_exporter": "python",
   "pygments_lexer": "ipython2",
   "version": "2.7.11"
  }
 },
 "nbformat": 4,
 "nbformat_minor": 0
}
